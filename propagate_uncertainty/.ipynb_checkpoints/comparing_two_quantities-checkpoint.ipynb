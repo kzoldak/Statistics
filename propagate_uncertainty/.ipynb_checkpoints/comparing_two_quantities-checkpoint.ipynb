{
 "cells": [
  {
   "cell_type": "markdown",
   "metadata": {},
   "source": [
    "In this notebook we will compare two quantities representing the same thing; such as two measurements made on the same thing by independent analysts. \n",
    "\n",
    "Anne and Billy both measure the speed of a moving ball. This problem was taken from:\n",
    "http://ipl.physics.harvard.edu/wp-uploads/2013/03/PS3_Error_Propagation_sp13.pdf\n",
    "\n",
    "Anne measures $3.6±0.2$ m/s and Billy measures $3.3 ± 0.3$ m/s\n",
    "\n",
    "Lets call Anne's result $A±\\delta A$ and Billy's result $B±\\delta B$"
   ]
  },
  {
   "cell_type": "code",
   "execution_count": 1,
   "metadata": {},
   "outputs": [],
   "source": [
    "import numpy as np"
   ]
  },
  {
   "cell_type": "markdown",
   "metadata": {},
   "source": [
    "Compute the difference between Anne and Billy's results and call it D."
   ]
  },
  {
   "cell_type": "code",
   "execution_count": 2,
   "metadata": {},
   "outputs": [
    {
     "name": "stdout",
     "output_type": "stream",
     "text": [
      "0.30000000000000027\n"
     ]
    }
   ],
   "source": [
    "# A stands for Anne's result, B stands for Billy's result.\n",
    "A = 3.6\n",
    "B = 3.3\n",
    "\n",
    "# D stands for Difference \n",
    "D = A-B\n",
    "print(D)"
   ]
  },
  {
   "cell_type": "markdown",
   "metadata": {},
   "source": [
    "Now we want to figure out what $\\delta D$ would be. Using propagation of error equation: \n",
    "\n",
    "$\\sigma_D = \\sqrt{\\sigma_A^2 + \\sigma_B^2}$\n",
    "\n",
    "where $\\sigma_D$ is the same thing as $\\delta D$, we just use the sigma since this is conventional for representing uncertainties. Using delta instead:\n",
    "\n",
    "$\\delta_D = \\sqrt{\\delta_A^2 + \\delta_B^2}$\n"
   ]
  },
  {
   "cell_type": "code",
   "execution_count": 3,
   "metadata": {},
   "outputs": [
    {
     "name": "stdout",
     "output_type": "stream",
     "text": [
      "0.36055512754639896\n"
     ]
    }
   ],
   "source": [
    "delta_A = 0.2\n",
    "delta_B = 0.3\n",
    "\n",
    "\n",
    "delta_D = np.sqrt((delta_A**2) + (delta_B**2))\n",
    "print(delta_D)"
   ]
  },
  {
   "cell_type": "code",
   "execution_count": 4,
   "metadata": {},
   "outputs": [
    {
     "name": "stdout",
     "output_type": "stream",
     "text": [
      "\n",
      "\n",
      "The difference between Anne and Billy's measurements of the moving ball is: \n",
      "0.300 ± $0.361\n"
     ]
    }
   ],
   "source": [
    "print(\"\\n\\nThe difference between Anne and Billy's measurements of the moving ball is: \")\n",
    "print('%.3f ± $%.3f'%(D, delta_D))"
   ]
  },
  {
   "cell_type": "markdown",
   "metadata": {},
   "source": [
    "```\n",
    "\n",
    "```\n",
    "I coppied and pasted the ± into the print statement and it seemed to work. Not sure how or why. "
   ]
  },
  {
   "cell_type": "markdown",
   "metadata": {},
   "source": [
    "### Write a function that automates this."
   ]
  },
  {
   "cell_type": "code",
   "execution_count": 5,
   "metadata": {},
   "outputs": [],
   "source": [
    "del delta_A, delta_B, delta_D, D"
   ]
  },
  {
   "cell_type": "code",
   "execution_count": 6,
   "metadata": {},
   "outputs": [],
   "source": [
    "def compare_two_quantities(valA, valB, errA, errB):\n",
    "    \"\"\"\n",
    "    We only allow for two values and two errors in this function \n",
    "    so it is not used for more than two quantaties.\n",
    "    \n",
    "    \"\"\"\n",
    "    D = valA-valB\n",
    "    delta_A, delta_B = errA, errB\n",
    "    delta_D = np.sqrt((delta_A**2) + (delta_B**2))\n",
    "    return D, delta_D\n",
    "    \n",
    "    "
   ]
  },
  {
   "cell_type": "code",
   "execution_count": 10,
   "metadata": {},
   "outputs": [
    {
     "data": {
      "text/plain": [
       "(0.30000000000000027, 0.36055512754639896)"
      ]
     },
     "execution_count": 10,
     "metadata": {},
     "output_type": "execute_result"
    }
   ],
   "source": [
    "compare_two_quantities(valA=3.6, valB=3.3, errA=0.2, errB=0.3)"
   ]
  },
  {
   "cell_type": "code",
   "execution_count": 11,
   "metadata": {},
   "outputs": [
    {
     "data": {
      "text/plain": [
       "(-0.12, 0.0282842712474619)"
      ]
     },
     "execution_count": 11,
     "metadata": {},
     "output_type": "execute_result"
    }
   ],
   "source": [
    "compare_two_quantities(valA=0.86, valB=0.98, errA=0.02, errB=0.02)"
   ]
  },
  {
   "cell_type": "code",
   "execution_count": null,
   "metadata": {},
   "outputs": [],
   "source": []
  },
  {
   "cell_type": "code",
   "execution_count": 12,
   "metadata": {},
   "outputs": [],
   "source": [
    "def compute_differences(valuesA, valuesB=None):\n",
    "    \"\"\"\n",
    "    If valuesB is None, then use the valuesA \n",
    "    twice and compare each ith value against \n",
    "    the others without repeating any.\n",
    "    \n",
    "    If valuesB is not None\n",
    "      Order of operation:  valuesA - valuesB\n",
    "    \"\"\"\n",
    "    if valuesB is None:\n",
    "        differences = []\n",
    "        for i,j in enumerate(valuesA):\n",
    "            for ii,jj in enumerate(valuesA[i:]):\n",
    "                if j != jj:\n",
    "                    differences.append(j-jj)\n",
    "        return differences\n",
    "    else:\n",
    "        differences = [i-j for i,j in zip(valuesA, valuesB)]\n",
    "        return differences\n",
    "        \n",
    "\n",
    "def sum_of_squares(values):\n",
    "    \"\"\"\n",
    "    Parameters:\n",
    "    -----------\n",
    "    values:  list of values to square and then sum.\n",
    "\n",
    "    Equation:\n",
    "    ---------\n",
    "    sum( [i**2 for i in values] )\n",
    "\n",
    "    \"\"\"\n",
    "    differences = compute_differences(valuesA=values, valuesB=None)\n",
    "    return sum( [i**2 for i in differences] )\n",
    "\n",
    "\n",
    "def root_mean_square(valuesA, valuesB=None):\n",
    "    \"\"\"\n",
    "    Parameters:\n",
    "    -----------\n",
    "    values:  list of values to compute the rms of.\n",
    "\n",
    "    Equation:\n",
    "    ---------\n",
    "    np.sqrt( sum_of_squares(values) / len(values) )\n",
    "    where \n",
    "    sum_of_squares(values) equation is:\n",
    "        sum( [i**2 for i in values] )\n",
    "    \"\"\"\n",
    "    if valuesB is not None:\n",
    "        differences = compute_differences(valuesA=valuesA, valuesB=valuesB)\n",
    "    else:\n",
    "        differences = compute_differences(valuesA=valuesA, valuesB=None)\n",
    "    return np.sqrt( sum([i**2 for i in differences])/len(differences) )\n",
    "    \n",
    "def standard_deviation(values):\n",
    "    \"\"\"\n",
    "    This function is the exact same thing as taking rms/sqrt(2)\n",
    "    \n",
    "    NOTE: This is NOT the same as np.std. Numpy's standard deviation \n",
    "    function uses 1/N instead of 1/(N-1). \n",
    "    \n",
    "    \"\"\"\n",
    "    mean_value = np.mean(values)\n",
    "    return np.sqrt(sum([(i-mean_value)**2 for i in values])/(len(values)-1.))\n",
    "\n",
    "    \n",
    "# Aliases\n",
    "sos = sum_of_squares\n",
    "rms = root_mean_square\n",
    "std = standard_deviation"
   ]
  },
  {
   "cell_type": "code",
   "execution_count": null,
   "metadata": {},
   "outputs": [],
   "source": [
    "valA=3.6, valB=3.3, errA=0.2, errB=0.3"
   ]
  },
  {
   "cell_type": "code",
   "execution_count": 13,
   "metadata": {},
   "outputs": [],
   "source": [
    "Vals = [3.6, 3.3]"
   ]
  },
  {
   "cell_type": "code",
   "execution_count": 14,
   "metadata": {},
   "outputs": [
    {
     "name": "stdout",
     "output_type": "stream",
     "text": [
      "0.09000000000000016\n",
      "0.30000000000000027\n",
      "0.21213203435596442\n",
      "0.21213203435596445\n",
      "0.15000000000000013\n"
     ]
    }
   ],
   "source": [
    "print(sos(Vals))\n",
    "print(rms(Vals)) # Use for Values when only 2 given. \n",
    "print(rms(Vals)/np.sqrt(2))\n",
    "print(std(Vals))\n",
    "print(np.std(Vals))"
   ]
  },
  {
   "cell_type": "code",
   "execution_count": 15,
   "metadata": {},
   "outputs": [
    {
     "name": "stdout",
     "output_type": "stream",
     "text": [
      "0.009999999999999995\n",
      "0.09999999999999998\n",
      "0.07071067811865474\n",
      "0.07071067811865474\n",
      "0.04999999999999999\n"
     ]
    }
   ],
   "source": [
    "Vals = [0.2, 0.3]\n",
    "\n",
    "print(sos(Vals))\n",
    "print(rms(Vals)) # Use for Values when only 2 given. \n",
    "print(rms(Vals)/np.sqrt(2))\n",
    "print(std(Vals))\n",
    "print(np.std(Vals))"
   ]
  },
  {
   "cell_type": "code",
   "execution_count": 16,
   "metadata": {},
   "outputs": [
    {
     "data": {
      "text/plain": [
       "0.09"
      ]
     },
     "execution_count": 16,
     "metadata": {},
     "output_type": "execute_result"
    }
   ],
   "source": [
    "0.3**2"
   ]
  },
  {
   "cell_type": "code",
   "execution_count": null,
   "metadata": {},
   "outputs": [],
   "source": []
  }
 ],
 "metadata": {
  "kernelspec": {
   "display_name": "Python 3",
   "language": "python",
   "name": "python3"
  },
  "language_info": {
   "codemirror_mode": {
    "name": "ipython",
    "version": 3
   },
   "file_extension": ".py",
   "mimetype": "text/x-python",
   "name": "python",
   "nbconvert_exporter": "python",
   "pygments_lexer": "ipython3",
   "version": "3.7.0"
  }
 },
 "nbformat": 4,
 "nbformat_minor": 2
}
