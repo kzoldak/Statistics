{
 "cells": [
  {
   "cell_type": "code",
   "execution_count": 1,
   "metadata": {},
   "outputs": [],
   "source": [
    "import numpy as np"
   ]
  },
  {
   "cell_type": "code",
   "execution_count": 60,
   "metadata": {},
   "outputs": [],
   "source": [
    "def compute_differences(valuesA, valuesB=None):\n",
    "    \"\"\"\n",
    "    If valuesB is None, then use the valuesA \n",
    "    twice and compare each ith value against \n",
    "    the others without repeating any.\n",
    "    \n",
    "    If valuesB is not None\n",
    "      Order of operation:  valuesA - valuesB\n",
    "    \"\"\"\n",
    "    if valuesB is None:\n",
    "        differences = []\n",
    "        for i,j in enumerate(valuesA):\n",
    "            for ii,jj in enumerate(valuesA[i:]):\n",
    "                if j != jj:\n",
    "                    differences.append(j-jj)\n",
    "        return differences\n",
    "    else:\n",
    "        differences = [i-j for i,j in zip(valuesA, valuesB)]\n",
    "        return differences\n",
    "        \n",
    "\n",
    "def sum_of_squares(values):\n",
    "    \"\"\"\n",
    "    Parameters:\n",
    "    -----------\n",
    "    values:  list of values to square and then sum.\n",
    "\n",
    "    Equation:\n",
    "    ---------\n",
    "    sum( [i**2 for i in values] )\n",
    "\n",
    "    \"\"\"\n",
    "    differences = compute_differences(valuesA=values, valuesB=None)\n",
    "    return sum( [i**2 for i in differences] )\n",
    "\n",
    "\n",
    "def root_mean_square(valuesA, valuesB=None):\n",
    "    \"\"\"\n",
    "    Parameters:\n",
    "    -----------\n",
    "    values:  list of values to compute the rms of.\n",
    "\n",
    "    Equation:\n",
    "    ---------\n",
    "    np.sqrt( sum_of_squares(values) / len(values) )\n",
    "    where \n",
    "    sum_of_squares(values) equation is:\n",
    "        sum( [i**2 for i in values] )\n",
    "    \"\"\"\n",
    "    if valuesB is not None:\n",
    "        differences = compute_differences(valuesA=valuesA, valuesB=valuesB)\n",
    "    else:\n",
    "        differences = compute_differences(valuesA=valuesA, valuesB=None)\n",
    "    return np.sqrt( sum([i**2 for i in differences])/len(differences) )\n",
    "    \n",
    "def standard_deviation(values):\n",
    "    \"\"\"\n",
    "    This function is the exact same thing as taking rms/sqrt(2)\n",
    "    \n",
    "    NOTE: This is NOT the same as np.std. Numpy's standard deviation \n",
    "    function uses 1/N instead of 1/(N-1). \n",
    "    \n",
    "    \"\"\"\n",
    "    #mean_value = np.mean(values)\n",
    "    #return np.sqrt(sum([(i-mean_value)**2 for i in values])/(len(values)-1.))\n",
    "    N = len(values)\n",
    "    mean_value = np.mean(values)\n",
    "    sum_term = sum([(i-mean_value)**2 for i in values])\n",
    "    return np.sqrt(sum_term/(N-1))\n",
    "\n",
    "\n",
    "def standard_deviation_2(values):\n",
    "    \"\"\"\n",
    "    This function is the exact same thing as taking rms/sqrt(2)\n",
    "    \n",
    "    NOTE: This is NOT the same as np.std. Numpy's standard deviation \n",
    "    function uses 1/N instead of 1/(N-1). \n",
    "    \n",
    "    \"\"\"\n",
    "    mean_value = np.mean(values)\n",
    "    return np.sqrt( (sum([i**2 for i in values])/len(values)) - mean_value**2)\n",
    "\n",
    "def standard_deviation_3(values):\n",
    "    \"\"\"\n",
    "    This function is the exact same thing as taking rms/sqrt(2)\n",
    "    \n",
    "    NOTE: This is NOT the same as np.std. Numpy's standard deviation \n",
    "    function uses 1/N instead of 1/(N-1). \n",
    "    \n",
    "    \"\"\"\n",
    "    #mean_value = np.mean(values)\n",
    "    #return np.sqrt(sum([(i-mean_value)**2 for i in values])/(len(values)-1.))\n",
    "    N = len(values)\n",
    "    mean_value = np.mean(values)\n",
    "    sum_term = sum([(i-mean_value)**2 for i in values])\n",
    "    return np.sqrt(sum_term/N)\n",
    "\n",
    "def standard_deviation_4(values):\n",
    "    \"\"\"\n",
    "    This function is the exact same thing as taking rms/sqrt(2)\n",
    "    \n",
    "    NOTE: This is NOT the same as np.std. Numpy's standard deviation \n",
    "    function uses 1/N instead of 1/(N-1). \n",
    "    \n",
    "    \"\"\"\n",
    "    #mean_value = np.mean(values)\n",
    "    #return np.sqrt(sum([(i-mean_value)**2 for i in values])/(len(values)-1.))\n",
    "    N = len(values)\n",
    "    mean_value = np.mean(values)\n",
    "    sum_term = sum([(i-mean_value)**2 for i in values])\n",
    "    return np.sqrt(sum_term/(N-2))\n",
    "\n",
    "\n",
    "# Aliases\n",
    "sos = sum_of_squares\n",
    "rms = root_mean_square\n",
    "std = standard_deviation\n",
    "std2 = standard_deviation_2\n",
    "std3 = standard_deviation_3\n",
    "std4 = standard_deviation_4\n"
   ]
  },
  {
   "cell_type": "code",
   "execution_count": 62,
   "metadata": {},
   "outputs": [
    {
     "name": "stdout",
     "output_type": "stream",
     "text": [
      "0.07219201825686906\n",
      "0.07219201825686826\n"
     ]
    }
   ],
   "source": [
    "print(std2(Vals))\n",
    "print(np.std(Vals, ddof=0))"
   ]
  },
  {
   "cell_type": "code",
   "execution_count": null,
   "metadata": {},
   "outputs": [],
   "source": []
  },
  {
   "cell_type": "code",
   "execution_count": 63,
   "metadata": {},
   "outputs": [],
   "source": [
    "?np.std"
   ]
  },
  {
   "cell_type": "code",
   "execution_count": 53,
   "metadata": {},
   "outputs": [
    {
     "name": "stdout",
     "output_type": "stream",
     "text": [
      "0.08338699999999999\n",
      "0.11788907215400982\n",
      "\n",
      "These are Correct\n",
      "0.08336016234789052\n",
      "0.08336016234789052\n",
      "0.08336016234789052\n",
      "\n",
      "These are not Correct\n",
      "0.07219201825686826\n",
      "0.07219201825686906\n",
      "0.07219201825686826\n"
     ]
    }
   ],
   "source": [
    "Vals = [2.668, 2.87, 2.793, 2.768]\n",
    "\n",
    "print(sos(Vals))\n",
    "print(rms(Vals))\n",
    "print('')\n",
    "print('These are Correct')\n",
    "print(rms(Vals)/np.sqrt(2))\n",
    "print(std(Vals))\n",
    "print(np.std(Vals, ddof=1)) # This is same as std(Vals) and rms(Vals)/np.sqrt(2)\n",
    "print('')\n",
    "print('These are not Correct')\n",
    "print(np.std(Vals))\n",
    "print(std2(Vals))\n",
    "print(std3(Vals))"
   ]
  },
  {
   "cell_type": "code",
   "execution_count": 49,
   "metadata": {},
   "outputs": [
    {
     "name": "stdout",
     "output_type": "stream",
     "text": [
      "This is only one that is Correct\n",
      "0.30000000000000027\n",
      "\n",
      "This is for the uncertainty on the values\n",
      "0.36055512754639896\n"
     ]
    }
   ],
   "source": [
    "Vals = [3.6, 3.3]\n",
    "\n",
    "\n",
    "print('This is only one that is Correct')\n",
    "print(rms(Vals))\n",
    "print('')\n",
    "\n",
    "Errs = [0.2, 0.3]\n",
    "print('This is for the uncertainty on the values')\n",
    "print(np.sqrt(sum([i**2 for i in Errs])))"
   ]
  },
  {
   "cell_type": "code",
   "execution_count": null,
   "metadata": {},
   "outputs": [],
   "source": []
  },
  {
   "cell_type": "code",
   "execution_count": 48,
   "metadata": {},
   "outputs": [
    {
     "name": "stdout",
     "output_type": "stream",
     "text": [
      "4.883646178829912\n",
      "0.36055512754639896\n"
     ]
    }
   ],
   "source": [
    "\n",
    "\n",
    "Errs = [0.2, 0.3]\n",
    "print(np.sqrt(sum([i**2 for i in Errs])))"
   ]
  },
  {
   "cell_type": "code",
   "execution_count": null,
   "metadata": {},
   "outputs": [],
   "source": []
  },
  {
   "cell_type": "code",
   "execution_count": 28,
   "metadata": {},
   "outputs": [
    {
     "name": "stdout",
     "output_type": "stream",
     "text": [
      "0.051629410308565105\n",
      "0.07185360833567449\n",
      "0.050808173706877666\n",
      "0.050808173706877666\n",
      "0.050808173706877666\n",
      "0.045444212088478375\n"
     ]
    }
   ],
   "source": [
    "Vals = [114, 125, 153.2, 131, 117]\n",
    "\n",
    "Vals = [np.log10(i) for i in Vals]\n",
    "#print(Vals)\n",
    "\n",
    "print(sos(Vals))\n",
    "print(rms(Vals))\n",
    "print(rms(Vals)/np.sqrt(2))\n",
    "print(std(Vals))\n",
    "print(np.std(Vals, ddof=1)) # This is same as std(Vals) and rms(Vals)/np.sqrt(2)\n",
    "print(np.std(Vals))\n"
   ]
  },
  {
   "cell_type": "code",
   "execution_count": 27,
   "metadata": {},
   "outputs": [
    {
     "data": {
      "text/plain": [
       "0.050808173706877666"
      ]
     },
     "execution_count": 27,
     "metadata": {},
     "output_type": "execute_result"
    }
   ],
   "source": [
    "np.std(Vals, ddof=1)"
   ]
  },
  {
   "cell_type": "code",
   "execution_count": null,
   "metadata": {},
   "outputs": [],
   "source": []
  },
  {
   "cell_type": "code",
   "execution_count": null,
   "metadata": {},
   "outputs": [],
   "source": []
  },
  {
   "cell_type": "code",
   "execution_count": 21,
   "metadata": {
    "scrolled": true
   },
   "outputs": [
    {
     "name": "stdout",
     "output_type": "stream",
     "text": [
      "0.0016004129603695353\n",
      "0.04000516167158352\n",
      "0.028287921100440865\n",
      "0.028287921100440868\n",
      "0.02000258083579176\n"
     ]
    }
   ],
   "source": [
    "Vals = [114, 125]\n",
    "\n",
    "Vals = [np.log10(i) for i in Vals]\n",
    "#print(Vals)\n",
    "\n",
    "print(sos(Vals))\n",
    "print(rms(Vals))\n",
    "print(rms(Vals)/np.sqrt(2))\n",
    "print(std(Vals))\n",
    "print(np.std(Vals))"
   ]
  },
  {
   "cell_type": "code",
   "execution_count": 23,
   "metadata": {},
   "outputs": [],
   "source": [
    "?np.std"
   ]
  },
  {
   "cell_type": "code",
   "execution_count": null,
   "metadata": {},
   "outputs": [],
   "source": []
  }
 ],
 "metadata": {
  "kernelspec": {
   "display_name": "Python 3",
   "language": "python",
   "name": "python3"
  },
  "language_info": {
   "codemirror_mode": {
    "name": "ipython",
    "version": 3
   },
   "file_extension": ".py",
   "mimetype": "text/x-python",
   "name": "python",
   "nbconvert_exporter": "python",
   "pygments_lexer": "ipython3",
   "version": "3.7.0"
  }
 },
 "nbformat": 4,
 "nbformat_minor": 2
}
