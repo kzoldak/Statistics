{
 "cells": [
  {
   "cell_type": "markdown",
   "metadata": {},
   "source": [
    "In this notebook we will compare two quantities representing the same thing; such as two measurements made on the same thing by independent analysts. \n",
    "\n",
    "Anne and Billy both measure the speed of a moving ball. This problem was taken from:\n",
    "http://ipl.physics.harvard.edu/wp-uploads/2013/03/PS3_Error_Propagation_sp13.pdf\n",
    "\n",
    "Anne measures $3.6±0.2$ m/s and Billy measures $3.3 ± 0.3$ m/s\n",
    "\n",
    "Lets call Anne's result $A±\\delta A$ and Billy's result $B±\\delta B$"
   ]
  },
  {
   "cell_type": "markdown",
   "metadata": {},
   "source": [
    "Instead of having just two quantities (and their uncertainties) to compare, you have several. "
   ]
  },
  {
   "cell_type": "code",
   "execution_count": 1,
   "metadata": {},
   "outputs": [],
   "source": [
    "import numpy as np"
   ]
  },
  {
   "cell_type": "markdown",
   "metadata": {},
   "source": [
    "When there are multiple values to compare, you must use the propagation of error equation. However, the difference is that you must divide by the square root of the number of values in the comparison. This is also known as the root-mean-square equation. \n",
    "\n",
    "$\\sigma_\\delta = \\sqrt{\\frac{\\sum^n_{i=1}(\\delta_i)^2}{n}}$\n",
    "\n",
    "where $\\delta_i$ are the individual differences between the values. "
   ]
  },
  {
   "cell_type": "code",
   "execution_count": 2,
   "metadata": {},
   "outputs": [],
   "source": [
    "def compute_differences(valuesA, valuesB=None):\n",
    "    \"\"\"\n",
    "    If valuesB is None, then use the valuesA \n",
    "    twice and compare each ith value against \n",
    "    the others without repeating any.\n",
    "    \n",
    "    If valuesB is not None\n",
    "      Order of operation:  valuesA - valuesB\n",
    "    \"\"\"\n",
    "    if valuesB is None:\n",
    "        differences = []\n",
    "        for i,j in enumerate(valuesA):\n",
    "            for ii,jj in enumerate(valuesA[i:]):\n",
    "                if j != jj:\n",
    "                    differences.append(j-jj)\n",
    "        return differences\n",
    "    else:\n",
    "        differences = [i-j for i,j in zip(valuesA, valuesB)]\n",
    "        return differences\n",
    "        \n",
    "\n",
    "def sum_of_squares(values):\n",
    "    \"\"\"\n",
    "    Parameters:\n",
    "    -----------\n",
    "    values:  list of values to square and then sum.\n",
    "\n",
    "    Equation:\n",
    "    ---------\n",
    "    sum( [i**2 for i in values] )\n",
    "\n",
    "    \"\"\"\n",
    "    differences = compute_differences(valuesA=values, valuesB=None)\n",
    "    return sum( [i**2 for i in differences] )\n",
    "\n",
    "\n",
    "def root_mean_square(valuesA, valuesB=None):\n",
    "    \"\"\"\n",
    "    Parameters:\n",
    "    -----------\n",
    "    values:  list of values to compute the rms of.\n",
    "\n",
    "    Equation:\n",
    "    ---------\n",
    "    np.sqrt( sum_of_squares(values) / len(values) )\n",
    "    where \n",
    "    sum_of_squares(values) equation is:\n",
    "        sum( [i**2 for i in values] )\n",
    "    \"\"\"\n",
    "    if valuesB is not None:\n",
    "        differences = compute_differences(valuesA=valuesA, valuesB=valuesB)\n",
    "    else:\n",
    "        differences = compute_differences(valuesA=valuesA, valuesB=None)\n",
    "    return np.sqrt( sum([i**2 for i in differences])/len(differences) )\n",
    "    \n",
    "def standard_deviation(values):\n",
    "    \"\"\"\n",
    "    This function is the exact same thing as taking rms/sqrt(2)\n",
    "    \n",
    "    NOTE: This is NOT the same as np.std. Numpy's standard deviation \n",
    "    function uses 1/N instead of 1/(N-1). \n",
    "    \n",
    "    \"\"\"\n",
    "    mean_value = np.mean(values)\n",
    "    return np.sqrt(sum([(i-mean_value)**2 for i in values])/(len(values)-1.))\n",
    "\n",
    "def standard_deviation(values):\n",
    "    \"\"\"\n",
    "    This function is the exact same thing as taking rms/sqrt(2)\n",
    "    \n",
    "    NOTE: This is NOT the same as np.std. Numpy's standard deviation \n",
    "    function uses 1/N instead of 1/(N-1). \n",
    "    \n",
    "    \"\"\"\n",
    "    mean_value = np.mean(values)\n",
    "    return np.sqrt(sum([(i-mean_value)**2 for i in values])/(len(values)-1.))\n",
    "\n",
    "# Aliases\n",
    "sos = sum_of_squares\n",
    "rms = root_mean_square\n",
    "std = standard_deviation"
   ]
  },
  {
   "cell_type": "code",
   "execution_count": 15,
   "metadata": {},
   "outputs": [
    {
     "name": "stdout",
     "output_type": "stream",
     "text": [
      "['465', '741', '620', '586']\n"
     ]
    }
   ],
   "source": [
    "Vals = [2.668, 2.87, 2.793, 2.768]\n",
    "Vals = [10**i for i in Vals]\n",
    "print(['%i'%i for i in Vals])"
   ]
  },
  {
   "cell_type": "code",
   "execution_count": 6,
   "metadata": {},
   "outputs": [
    {
     "name": "stdout",
     "output_type": "stream",
     "text": [
      "0.08338699999999999\n",
      "0.11788907215400982\n",
      "0.08336016234789052\n",
      "0.08336016234789052\n",
      "0.08336016234789052\n",
      "0.07219201825686826\n"
     ]
    }
   ],
   "source": [
    "Vals = [2.668, 2.87, 2.793, 2.768]\n",
    "Errs = [0.004, 0.000, 0.008, 0.021]\n",
    "\n",
    "print(sos(Vals))\n",
    "print(rms(Vals))\n",
    "print(rms(Vals)/np.sqrt(2))\n",
    "print(std(Vals))\n",
    "print(np.std(Vals, ddof=1)) # This is same as std(Vals) and rms(Vals)/np.sqrt(2)\n",
    "print(np.std(Vals))"
   ]
  },
  {
   "cell_type": "code",
   "execution_count": 7,
   "metadata": {},
   "outputs": [
    {
     "name": "stdout",
     "output_type": "stream",
     "text": [
      "0.051629410308565105\n",
      "0.07185360833567449\n",
      "0.050808173706877666\n",
      "0.050808173706877666\n",
      "0.050808173706877666\n",
      "0.045444212088478375\n"
     ]
    }
   ],
   "source": [
    "Vals = [114, 125, 153.2, 131, 117]\n",
    "Vals = [np.log10(i) for i in Vals]\n",
    "\n",
    "print(sos(Vals))\n",
    "print(rms(Vals))\n",
    "print(rms(Vals)/np.sqrt(2))\n",
    "print(std(Vals))\n",
    "print(np.std(Vals, ddof=1)) # This is same as std(Vals) and rms(Vals)/np.sqrt(2)\n",
    "print(np.std(Vals))"
   ]
  },
  {
   "cell_type": "code",
   "execution_count": 8,
   "metadata": {},
   "outputs": [
    {
     "name": "stdout",
     "output_type": "stream",
     "text": [
      "4850.159999999997\n",
      "22.023078803836665\n",
      "15.572668364798623\n",
      "15.572668364798625\n",
      "15.572668364798625\n",
      "13.928618021900087\n"
     ]
    }
   ],
   "source": [
    "Vals = [114, 125, 153.2, 131, 117]\n",
    "\n",
    "print(sos(Vals))\n",
    "print(rms(Vals))\n",
    "print(rms(Vals)/np.sqrt(2))\n",
    "print(std(Vals))\n",
    "print(np.std(Vals, ddof=1)) # This is same as std(Vals) and rms(Vals)/np.sqrt(2)\n",
    "print(np.std(Vals))"
   ]
  },
  {
   "cell_type": "code",
   "execution_count": 11,
   "metadata": {},
   "outputs": [
    {
     "name": "stdout",
     "output_type": "stream",
     "text": [
      "['2.057', '2.097', '2.185', '2.117', '2.068']\n"
     ]
    }
   ],
   "source": [
    "Vals = [114, 125, 153.2, 131, 117]\n",
    "Vals = [np.log10(i) for i in Vals]\n",
    "print(['%.3f'%i for i in Vals])"
   ]
  },
  {
   "cell_type": "code",
   "execution_count": null,
   "metadata": {},
   "outputs": [],
   "source": []
  }
 ],
 "metadata": {
  "kernelspec": {
   "display_name": "Python 3",
   "language": "python",
   "name": "python3"
  },
  "language_info": {
   "codemirror_mode": {
    "name": "ipython",
    "version": 3
   },
   "file_extension": ".py",
   "mimetype": "text/x-python",
   "name": "python",
   "nbconvert_exporter": "python",
   "pygments_lexer": "ipython3",
   "version": "3.7.0"
  }
 },
 "nbformat": 4,
 "nbformat_minor": 2
}
