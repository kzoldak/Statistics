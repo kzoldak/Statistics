{
 "cells": [
  {
   "cell_type": "markdown",
   "metadata": {},
   "source": [
    "In this notebook we will compare two quantities representing the same thing; such as two measurements made on the same thing by independent analysts. \n",
    "\n",
    "Anne and Billy both measure the speed of a moving ball. This problem was taken from:\n",
    "http://ipl.physics.harvard.edu/wp-uploads/2013/03/PS3_Error_Propagation_sp13.pdf\n",
    "\n",
    "Anne measures $3.6±0.2$ m/s and Billy measures $3.3 ± 0.3$ m/s\n",
    "\n",
    "Lets call Anne's result $A±\\delta A$ and Billy's result $B±\\delta B$"
   ]
  },
  {
   "cell_type": "code",
   "execution_count": 13,
   "metadata": {},
   "outputs": [],
   "source": [
    "import numpy as np"
   ]
  },
  {
   "cell_type": "markdown",
   "metadata": {},
   "source": [
    "Compute the difference between Anne and Billy's results and call it D."
   ]
  },
  {
   "cell_type": "code",
   "execution_count": 14,
   "metadata": {},
   "outputs": [
    {
     "name": "stdout",
     "output_type": "stream",
     "text": [
      "0.30000000000000027\n"
     ]
    }
   ],
   "source": [
    "# A stands for Anne's result, B stands for Billy's result.\n",
    "A = 3.6\n",
    "B = 3.3\n",
    "\n",
    "# D stands for Difference \n",
    "D = A-B\n",
    "print(D)"
   ]
  },
  {
   "cell_type": "markdown",
   "metadata": {},
   "source": [
    "Now we want to figure out what $\\delta D$ would be. Using propagation of error equation: \n",
    "\n",
    "$\\sigma_D = \\sqrt{\\sigma_A^2 + \\sigma_B^2}$\n",
    "\n",
    "where $\\sigma_D$ is the same thing as $\\delta D$, we just use the sigma since this is conventional for representing uncertainties. Using delta instead:\n",
    "\n",
    "$\\delta_D = \\sqrt{\\delta_A^2 + \\delta_B^2}$\n"
   ]
  },
  {
   "cell_type": "code",
   "execution_count": 15,
   "metadata": {},
   "outputs": [
    {
     "name": "stdout",
     "output_type": "stream",
     "text": [
      "0.36055512754639896\n"
     ]
    }
   ],
   "source": [
    "delta_A = 0.2\n",
    "delta_B = 0.3\n",
    "\n",
    "\n",
    "delta_D = np.sqrt((delta_A**2) + (delta_B**2))\n",
    "print(delta_D)"
   ]
  },
  {
   "cell_type": "code",
   "execution_count": 20,
   "metadata": {},
   "outputs": [
    {
     "name": "stdout",
     "output_type": "stream",
     "text": [
      "\n",
      "\n",
      "The difference between Anne and Billy's measurements of the moving ball is: \n",
      "0.300 ± $0.361\n"
     ]
    }
   ],
   "source": [
    "print(\"\\n\\nThe difference between Anne and Billy's measurements of the moving ball is: \")\n",
    "print('%.3f ± $%.3f'%(D, delta_D))"
   ]
  },
  {
   "cell_type": "markdown",
   "metadata": {},
   "source": [
    "```\n",
    "\n",
    "```\n",
    "I coppied and pasted the ± into the print statement and it seemed to work. Not sure how or why. "
   ]
  }
 ],
 "metadata": {
  "kernelspec": {
   "display_name": "Python 3",
   "language": "python",
   "name": "python3"
  },
  "language_info": {
   "codemirror_mode": {
    "name": "ipython",
    "version": 3
   },
   "file_extension": ".py",
   "mimetype": "text/x-python",
   "name": "python",
   "nbconvert_exporter": "python",
   "pygments_lexer": "ipython3",
   "version": "3.7.0"
  }
 },
 "nbformat": 4,
 "nbformat_minor": 2
}
